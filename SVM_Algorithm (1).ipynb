{
 "cells": [
  {
   "cell_type": "code",
   "execution_count": 5,
   "id": "041d1ff3-73a1-4b61-a40b-cf6a5ebd4e9a",
   "metadata": {
    "scrolled": true
   },
   "outputs": [
    {
     "name": "stdout",
     "output_type": "stream",
     "text": [
      "Dataset preview:\n",
      "  Patient Number    Sadness    Euphoric  Exhausted Sleep dissorder Mood Swing  \\\n",
      "0     Patiant-01    Usually      Seldom  Sometimes       Sometimes        YES   \n",
      "1     Patiant-02    Usually      Seldom    Usually       Sometimes         NO   \n",
      "2     Patiant-03  Sometimes  Most-Often  Sometimes       Sometimes        YES   \n",
      "3     Patiant-04    Usually      Seldom    Usually      Most-Often        YES   \n",
      "4     Patiant-05    Usually     Usually  Sometimes       Sometimes         NO   \n",
      "\n",
      "  Suicidal thoughts Anorxia Authority Respect Try-Explanation  \\\n",
      "0              YES       NO                NO             YES   \n",
      "1               YES      NO                NO              NO   \n",
      "2                NO      NO                NO             YES   \n",
      "3               YES     YES                NO             YES   \n",
      "4                NO      NO                NO              NO   \n",
      "\n",
      "  Aggressive Response Ignore & Move-On Nervous Break-down Admit Mistakes  \\\n",
      "0                  NO               NO                YES            YES   \n",
      "1                  NO               NO                 NO             NO   \n",
      "2                 YES               NO                YES            YES   \n",
      "3                  NO               NO                 NO             NO   \n",
      "4                  NO               NO                YES            YES   \n",
      "\n",
      "  Overthinking Sexual Activity Concentration  Optimisim Expert Diagnose  \n",
      "0          YES       3 From 10     3 From 10  4 From 10  Bipolar Type-2  \n",
      "1           NO       4 From 10     2 From 10  5 From 10      Depression  \n",
      "2           NO       6 From 10     5 From 10  7 From 10  Bipolar Type-1  \n",
      "3           NO       3 From 10     2 From 10  2 From 10  Bipolar Type-2  \n",
      "4          YES       5 From 10     5 From 10  6 From 10          Normal  \n",
      "\n",
      "Column names in the dataset:\n",
      "Index(['Patient Number', 'Sadness', 'Euphoric', 'Exhausted', 'Sleep dissorder',\n",
      "       'Mood Swing', 'Suicidal thoughts', 'Anorxia', 'Authority Respect',\n",
      "       'Try-Explanation', 'Aggressive Response', 'Ignore & Move-On',\n",
      "       'Nervous Break-down', 'Admit Mistakes', 'Overthinking',\n",
      "       'Sexual Activity', 'Concentration', 'Optimisim', 'Expert Diagnose'],\n",
      "      dtype='object')\n",
      "\n",
      "Accuracy: 0.2849002849002849\n",
      "\n",
      "The model achieved an accuracy of 28.49%\n",
      "\n",
      "Classification Report:\n",
      "                precision    recall  f1-score   support\n",
      "\n",
      "Bipolar Type-1       0.32      0.23      0.26       283\n",
      "Bipolar Type-2       0.25      0.26      0.25       250\n",
      "    Depression       0.29      0.33      0.31       266\n",
      "        Normal       0.30      0.33      0.31       254\n",
      "\n",
      "      accuracy                           0.28      1053\n",
      "     macro avg       0.29      0.29      0.28      1053\n",
      "  weighted avg       0.29      0.28      0.28      1053\n",
      "\n",
      "\n",
      "Feature Importances (approximated from linear SVM):\n",
      "                          Feature  Importance\n",
      "5274       Suicidal thoughts_YES     1.436057\n",
      "5300         Optimisim_10 From 10    1.239413\n",
      "1022  Patient Number_Patiant-1912    1.000000\n",
      "4659   Patient Number_Patiant-519    1.000000\n",
      "2640  Patient Number_Patiant-3370    1.000000\n",
      "...                           ...         ...\n",
      "2166  Patient Number_Patiant-2943    0.000000\n",
      "2169  Patient Number_Patiant-2946    0.000000\n",
      "2170  Patient Number_Patiant-2947    0.000000\n",
      "2175  Patient Number_Patiant-2951    0.000000\n",
      "2654  Patient Number_Patiant-3383    0.000000\n",
      "\n",
      "[5309 rows x 2 columns]\n"
     ]
    }
   ],
   "source": [
    "import pandas as pd\n",
    "from sklearn.model_selection import train_test_split\n",
    "from sklearn.svm import SVC\n",
    "from sklearn.metrics import accuracy_score, classification_report\n",
    "\n",
    "# Load the dataset\n",
    "file_path = 'Extended_Dataset-Mental-Disorders-5261.csv'  # Update this path if necessary\n",
    "data = pd.read_csv(\"Unique_Extended_Dataset-Mental-Disorders-5261.csv\")\n",
    "\n",
    "# Preview the dataset\n",
    "print(\"Dataset preview:\")\n",
    "print(data.head())\n",
    "\n",
    "# Print column names to identify the target column\n",
    "print(\"\\nColumn names in the dataset:\")\n",
    "print(data.columns)\n",
    "\n",
    "# Data preprocessing\n",
    "# Use 'Expert Diagnose' as the target column\n",
    "target_column = 'Expert Diagnose'\n",
    "if target_column not in data.columns:\n",
    "    raise KeyError(f\"The specified target column '{target_column}' is not found in the dataset.\")\n",
    "\n",
    "X = data.drop(columns=[target_column])  # Features\n",
    "y = data[target_column]  # Target\n",
    "\n",
    "# Handle missing values (if any)\n",
    "X = X.fillna(X.select_dtypes(include=['number']).mean(numeric_only=True))\n",
    "\n",
    "# Convert categorical variables to numeric (if necessary)\n",
    "X = pd.get_dummies(X, drop_first=True)\n",
    "\n",
    "# Split the dataset into training and testing sets\n",
    "X_train, X_test, y_train, y_test = train_test_split(X, y, test_size=0.2, random_state=42)\n",
    "\n",
    "# Create an SVM model\n",
    "svm_model = SVC(kernel='linear', random_state=42)\n",
    "\n",
    "# Train the model\n",
    "svm_model.fit(X_train, y_train)\n",
    "\n",
    "# Make predictions\n",
    "y_pred = svm_model.predict(X_test)\n",
    "\n",
    "# Evaluate the model\n",
    "accuracy = accuracy_score(y_test, y_pred)\n",
    "print(\"\\nAccuracy:\", accuracy)\n",
    "print(f\"\\nThe model achieved an accuracy of {accuracy * 100:.2f}%\")\n",
    "print(\"\\nClassification Report:\")\n",
    "print(classification_report(y_test, y_pred))\n",
    "\n",
    "# Feature importance approximation (weights from linear kernel)\n",
    "if hasattr(svm_model, 'coef_'):\n",
    "    feature_importances = pd.DataFrame({\n",
    "        'Feature': X.columns,\n",
    "        'Importance': abs(svm_model.coef_[0])\n",
    "    }).sort_values(by='Importance', ascending=False)\n",
    "\n",
    "    print(\"\\nFeature Importances (approximated from linear SVM):\")\n",
    "    print(feature_importances)\n",
    "else:\n",
    "    print(\"\\nFeature importance is not available for non-linear kernels.\")\n"
   ]
  },
  {
   "cell_type": "code",
   "execution_count": 6,
   "id": "8562a86e-0e30-48fe-88ff-d514ae419623",
   "metadata": {},
   "outputs": [
    {
     "name": "stdout",
     "output_type": "stream",
     "text": [
      "\n",
      "Training set size: (4208, 5309), (4208,)\n",
      "Testing set size: (1053, 5309), (1053,)\n",
      "\n",
      "Predictions: ['Normal' 'Bipolar Type-2' 'Depression' 'Normal' 'Normal']\n",
      "\n",
      "Accuracy: 0.2849002849002849\n",
      "\n",
      "The model achieved an accuracy of 28.49%\n"
     ]
    }
   ],
   "source": [
    "# Split the dataset into training and testing sets\n",
    "X_train, X_test, y_train, y_test = train_test_split(X, y, test_size=0.2, random_state=42)\n",
    "\n",
    "# Print dataset sizes\n",
    "print(f\"\\nTraining set size: {X_train.shape}, {y_train.shape}\")\n",
    "print(f\"Testing set size: {X_test.shape}, {y_test.shape}\")\n",
    "\n",
    "# Create an SVM model\n",
    "svm_model = SVC(kernel='linear', random_state=42)\n",
    "\n",
    "# Train the model\n",
    "svm_model.fit(X_train, y_train)\n",
    "\n",
    "# Make predictions\n",
    "y_pred = svm_model.predict(X_test)\n",
    "\n",
    "# Ensure predictions are generated\n",
    "print(f\"\\nPredictions: {y_pred[:5]}\")  # Print first 5 predictions for verification\n",
    "\n",
    "# Evaluate the model\n",
    "accuracy = accuracy_score(y_test, y_pred)\n",
    "print(\"\\nAccuracy:\", accuracy)\n",
    "print(f\"\\nThe model achieved an accuracy of {accuracy * 100:.2f}%\")\n"
   ]
  },
  {
   "cell_type": "code",
   "execution_count": 7,
   "id": "d1facaf6-6a8c-4452-905b-2c409d64ef6b",
   "metadata": {},
   "outputs": [
    {
     "name": "stdout",
     "output_type": "stream",
     "text": [
      "\n",
      "Unique classes in the target: ['Bipolar Type-2' 'Depression' 'Bipolar Type-1' 'Normal']\n",
      "\n",
      "First 5 predictions: ['Normal' 'Bipolar Type-2' 'Depression' 'Normal' 'Normal']\n",
      "\n",
      "First 5 actual values: ['Bipolar Type-1' 'Normal' 'Depression' 'Bipolar Type-2' 'Normal']\n"
     ]
    }
   ],
   "source": [
    "print(\"\\nUnique classes in the target:\", y.unique())\n",
    "print(\"\\nFirst 5 predictions:\", y_pred[:5])\n",
    "print(\"\\nFirst 5 actual values:\", y_test[:5].values)\n"
   ]
  },
  {
   "cell_type": "code",
   "execution_count": 8,
   "id": "009053f4-8b0f-41cb-92f8-16cf7326b182",
   "metadata": {},
   "outputs": [
    {
     "name": "stdout",
     "output_type": "stream",
     "text": [
      "\n",
      "Reduced feature set shape: (5261, 50)\n"
     ]
    }
   ],
   "source": [
    "from sklearn.decomposition import PCA\n",
    "\n",
    "# Apply PCA to reduce dimensionality\n",
    "pca = PCA(n_components=50, random_state=42)  # Keep 50 principal components\n",
    "X_reduced = pca.fit_transform(X)\n",
    "\n",
    "print(f\"\\nReduced feature set shape: {X_reduced.shape}\")\n"
   ]
  },
  {
   "cell_type": "code",
   "execution_count": 9,
   "id": "81e89243-d51e-4d99-bc98-aa3fa94dfa1c",
   "metadata": {},
   "outputs": [
    {
     "name": "stdout",
     "output_type": "stream",
     "text": [
      "\n",
      "Accuracy: 0.2849002849002849\n",
      "\n",
      "The model achieved an accuracy of 28.49%\n"
     ]
    }
   ],
   "source": [
    "print(\"\\nAccuracy:\", accuracy)\n",
    "print(f\"\\nThe model achieved an accuracy of {accuracy * 100:.2f}%\")\n"
   ]
  },
  {
   "cell_type": "code",
   "execution_count": 10,
   "id": "6f0bb6a3-ad90-453b-9ef8-fae4e71242a1",
   "metadata": {},
   "outputs": [],
   "source": [
    "svm_model = SVC(kernel='linear', random_state=42, decision_function_shape='ovr')  # One-vs-Rest strategy\n"
   ]
  },
  {
   "cell_type": "code",
   "execution_count": 11,
   "id": "6a890675-d597-4001-b655-5b3e1db9ef2d",
   "metadata": {},
   "outputs": [
    {
     "name": "stdout",
     "output_type": "stream",
     "text": [
      "\n",
      "Reduced feature set shape: (5261, 50)\n",
      "\n",
      "Training set size: (4208, 50), (4208,)\n",
      "Testing set size: (1053, 50), (1053,)\n",
      "\n",
      "Unique classes in the target: ['Bipolar Type-2' 'Depression' 'Bipolar Type-1' 'Normal']\n",
      "\n",
      "First 5 predictions: ['Normal' 'Bipolar Type-2' 'Depression' 'Normal' 'Normal']\n",
      "\n",
      "First 5 actual values: ['Bipolar Type-1' 'Normal' 'Depression' 'Bipolar Type-2' 'Normal']\n",
      "\n",
      "Accuracy: 0.288698955365622\n",
      "\n",
      "The model achieved an accuracy of 28.87%\n"
     ]
    }
   ],
   "source": [
    "# Apply PCA to reduce dimensionality\n",
    "pca = PCA(n_components=50, random_state=42)  # Reduce to 50 features\n",
    "X_reduced = pca.fit_transform(X)\n",
    "print(f\"\\nReduced feature set shape: {X_reduced.shape}\")\n",
    "\n",
    "# Split the dataset into training and testing sets\n",
    "X_train, X_test, y_train, y_test = train_test_split(X_reduced, y, test_size=0.2, random_state=42)\n",
    "\n",
    "# Verify training and testing sizes\n",
    "print(f\"\\nTraining set size: {X_train.shape}, {y_train.shape}\")\n",
    "print(f\"Testing set size: {X_test.shape}, {y_test.shape}\")\n",
    "\n",
    "# Create an SVM model\n",
    "svm_model = SVC(kernel='linear', random_state=42, decision_function_shape='ovr')\n",
    "\n",
    "# Train the model\n",
    "svm_model.fit(X_train, y_train)\n",
    "\n",
    "# Make predictions\n",
    "y_pred = svm_model.predict(X_test)\n",
    "\n",
    "# Verify predictions\n",
    "print(\"\\nUnique classes in the target:\", y.unique())\n",
    "print(\"\\nFirst 5 predictions:\", y_pred[:5])\n",
    "print(\"\\nFirst 5 actual values:\", y_test[:5].values)\n",
    "\n",
    "# Evaluate the model\n",
    "accuracy = accuracy_score(y_test, y_pred)\n",
    "print(\"\\nAccuracy:\", accuracy)\n",
    "print(f\"\\nThe model achieved an accuracy of {accuracy * 100:.2f}%\")\n"
   ]
  },
  {
   "cell_type": "code",
   "execution_count": null,
   "id": "3ad1e201-b256-4929-9c28-28f253f57bae",
   "metadata": {},
   "outputs": [],
   "source": [
    "\n"
   ]
  }
 ],
 "metadata": {
  "kernelspec": {
   "display_name": "Python 3 (ipykernel)",
   "language": "python",
   "name": "python3"
  },
  "language_info": {
   "codemirror_mode": {
    "name": "ipython",
    "version": 3
   },
   "file_extension": ".py",
   "mimetype": "text/x-python",
   "name": "python",
   "nbconvert_exporter": "python",
   "pygments_lexer": "ipython3",
   "version": "3.11.7"
  }
 },
 "nbformat": 4,
 "nbformat_minor": 5
}
