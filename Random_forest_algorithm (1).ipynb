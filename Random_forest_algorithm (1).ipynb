{
 "cells": [
  {
   "cell_type": "code",
   "execution_count": 5,
   "id": "789c0185-7d67-468b-b1f4-ef0b8d266549",
   "metadata": {},
   "outputs": [
    {
     "name": "stdout",
     "output_type": "stream",
     "text": [
      "Dataset preview:\n",
      "  Patient Number    Sadness    Euphoric  Exhausted Sleep dissorder Mood Swing  \\\n",
      "0     Patiant-01    Usually      Seldom  Sometimes       Sometimes        YES   \n",
      "1     Patiant-02    Usually      Seldom    Usually       Sometimes         NO   \n",
      "2     Patiant-03  Sometimes  Most-Often  Sometimes       Sometimes        YES   \n",
      "3     Patiant-04    Usually      Seldom    Usually      Most-Often        YES   \n",
      "4     Patiant-05    Usually     Usually  Sometimes       Sometimes         NO   \n",
      "\n",
      "  Suicidal thoughts Anorxia Authority Respect Try-Explanation  \\\n",
      "0              YES       NO                NO             YES   \n",
      "1               YES      NO                NO              NO   \n",
      "2                NO      NO                NO             YES   \n",
      "3               YES     YES                NO             YES   \n",
      "4                NO      NO                NO              NO   \n",
      "\n",
      "  Aggressive Response Ignore & Move-On Nervous Break-down Admit Mistakes  \\\n",
      "0                  NO               NO                YES            YES   \n",
      "1                  NO               NO                 NO             NO   \n",
      "2                 YES               NO                YES            YES   \n",
      "3                  NO               NO                 NO             NO   \n",
      "4                  NO               NO                YES            YES   \n",
      "\n",
      "  Overthinking Sexual Activity Concentration  Optimisim Expert Diagnose  \n",
      "0          YES       3 From 10     3 From 10  4 From 10  Bipolar Type-2  \n",
      "1           NO       4 From 10     2 From 10  5 From 10      Depression  \n",
      "2           NO       6 From 10     5 From 10  7 From 10  Bipolar Type-1  \n",
      "3           NO       3 From 10     2 From 10  2 From 10  Bipolar Type-2  \n",
      "4          YES       5 From 10     5 From 10  6 From 10          Normal  \n",
      "\n",
      "Column names in the dataset:\n",
      "Index(['Patient Number', 'Sadness', 'Euphoric', 'Exhausted', 'Sleep dissorder',\n",
      "       'Mood Swing', 'Suicidal thoughts', 'Anorxia', 'Authority Respect',\n",
      "       'Try-Explanation', 'Aggressive Response', 'Ignore & Move-On',\n",
      "       'Nervous Break-down', 'Admit Mistakes', 'Overthinking',\n",
      "       'Sexual Activity', 'Concentration', 'Optimisim', 'Expert Diagnose'],\n",
      "      dtype='object')\n"
     ]
    },
    {
     "name": "stderr",
     "output_type": "stream",
     "text": [
      "C:\\Users\\HP\\AppData\\Local\\Temp\\ipykernel_19384\\3763098416.py:28: FutureWarning: The default value of numeric_only in DataFrame.mean is deprecated. In a future version, it will default to False. In addition, specifying 'numeric_only=None' is deprecated. Select only valid columns or specify the value of numeric_only to silence this warning.\n",
      "  X = X.fillna(X.mean())\n"
     ]
    },
    {
     "name": "stdout",
     "output_type": "stream",
     "text": [
      "\n",
      "Accuracy: 0.6210826210826211\n",
      "\n",
      "Classification Report:\n",
      "                precision    recall  f1-score   support\n",
      "\n",
      "Bipolar Type-1       0.66      0.57      0.61       283\n",
      "Bipolar Type-2       0.61      0.62      0.62       250\n",
      "    Depression       0.57      0.68      0.62       266\n",
      "        Normal       0.66      0.62      0.64       254\n",
      "\n",
      "      accuracy                           0.62      1053\n",
      "     macro avg       0.63      0.62      0.62      1053\n",
      "  weighted avg       0.63      0.62      0.62      1053\n",
      "\n",
      "\n",
      "Feature Importances:\n",
      "                          Feature  Importance\n",
      "5281           Admit Mistakes_YES    0.024260\n",
      "5280       Nervous Break-down_YES    0.023490\n",
      "5272               Mood Swing_YES    0.023481\n",
      "5278      Aggressive Response_YES    0.023117\n",
      "5276        Authority Respect_YES    0.022891\n",
      "...                           ...         ...\n",
      "2614  Patient Number_Patiant-3347    0.000000\n",
      "2606   Patient Number_Patiant-334    0.000000\n",
      "4505  Patient Number_Patiant-5050    0.000000\n",
      "2605  Patient Number_Patiant-3339    0.000000\n",
      "2654  Patient Number_Patiant-3383    0.000000\n",
      "\n",
      "[5309 rows x 2 columns]\n"
     ]
    }
   ],
   "source": [
    "FYP/Unique_Extended_Dataset-Mental-Disorders-5261.csv"
   ]
  },
  {
   "cell_type": "code",
   "execution_count": null,
   "id": "499648f4-4de2-4f91-84bc-384ac7968c07",
   "metadata": {},
   "outputs": [],
   "source": []
  },
  {
   "cell_type": "code",
   "execution_count": null,
   "id": "3734ba57-2df3-44fa-bbdc-a149d9d18cc4",
   "metadata": {},
   "outputs": [],
   "source": []
  }
 ],
 "metadata": {
  "kernelspec": {
   "display_name": "Python 3 (ipykernel)",
   "language": "python",
   "name": "python3"
  },
  "language_info": {
   "codemirror_mode": {
    "name": "ipython",
    "version": 3
   },
   "file_extension": ".py",
   "mimetype": "text/x-python",
   "name": "python",
   "nbconvert_exporter": "python",
   "pygments_lexer": "ipython3",
   "version": "3.11.7"
  }
 },
 "nbformat": 4,
 "nbformat_minor": 5
}
